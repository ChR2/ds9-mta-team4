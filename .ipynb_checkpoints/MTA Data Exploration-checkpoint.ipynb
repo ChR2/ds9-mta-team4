{
 "cells": [
  {
   "cell_type": "code",
   "execution_count": 50,
   "metadata": {
    "collapsed": true
   },
   "outputs": [],
   "source": [
    "import pandas as pd\n",
    "import numpy as np\n",
    "import os\n",
    "\n",
    "%matplotlib inline\n",
    "import matplotlib.pyplot as plt\n",
    "import matplotlib"
   ]
  },
  {
   "cell_type": "code",
   "execution_count": 9,
   "metadata": {
    "collapsed": false
   },
   "outputs": [],
   "source": [
    "# df = pd.read_csv('data/mta_turnstiles/turnstile_160618.txt')"
   ]
  },
  {
   "cell_type": "code",
   "execution_count": 18,
   "metadata": {
    "collapsed": false
   },
   "outputs": [],
   "source": [
    "# Data source: http://web.mta.info/developers/turnstile.html\n",
    "# Will load combined CSV files that are in this folder into an appended dataframe\n",
    "datafiles = ['data/mta_turnstiles/' + x for x in os.listdir('data/mta_turnstiles/')]\n",
    "\n",
    "list_ = []\n",
    "for file_ in datafiles:\n",
    "    df = pd.read_csv(file_)\n",
    "    list_.append(df)\n",
    "df = pd.concat(list_)\n",
    "df.columns = df.columns.str.strip()"
   ]
  },
  {
   "cell_type": "code",
   "execution_count": 24,
   "metadata": {
    "collapsed": false
   },
   "outputs": [
    {
     "data": {
      "text/plain": [
       "Index([u'C/A', u'UNIT', u'SCP', u'STATION', u'LINENAME', u'DIVISION', u'DATE',\n",
       "       u'TIME', u'DESC', u'ENTRIES', u'EXITS'],\n",
       "      dtype='object')"
      ]
     },
     "execution_count": 24,
     "metadata": {},
     "output_type": "execute_result"
    }
   ],
   "source": [
    "df.columns"
   ]
  },
  {
   "cell_type": "code",
   "execution_count": 25,
   "metadata": {
    "collapsed": false
   },
   "outputs": [
    {
     "data": {
      "text/html": [
       "<div>\n",
       "<table border=\"1\" class=\"dataframe\">\n",
       "  <thead>\n",
       "    <tr style=\"text-align: right;\">\n",
       "      <th></th>\n",
       "      <th>C/A</th>\n",
       "      <th>UNIT</th>\n",
       "      <th>SCP</th>\n",
       "      <th>STATION</th>\n",
       "      <th>LINENAME</th>\n",
       "      <th>DIVISION</th>\n",
       "      <th>DATE</th>\n",
       "      <th>TIME</th>\n",
       "      <th>DESC</th>\n",
       "      <th>ENTRIES</th>\n",
       "      <th>EXITS</th>\n",
       "    </tr>\n",
       "  </thead>\n",
       "  <tbody>\n",
       "    <tr>\n",
       "      <th>0</th>\n",
       "      <td>A002</td>\n",
       "      <td>R051</td>\n",
       "      <td>02-00-00</td>\n",
       "      <td>59 ST</td>\n",
       "      <td>NQR456</td>\n",
       "      <td>BMT</td>\n",
       "      <td>05/21/2016</td>\n",
       "      <td>00:00:00</td>\n",
       "      <td>REGULAR</td>\n",
       "      <td>5672118</td>\n",
       "      <td>1920707</td>\n",
       "    </tr>\n",
       "    <tr>\n",
       "      <th>1</th>\n",
       "      <td>A002</td>\n",
       "      <td>R051</td>\n",
       "      <td>02-00-00</td>\n",
       "      <td>59 ST</td>\n",
       "      <td>NQR456</td>\n",
       "      <td>BMT</td>\n",
       "      <td>05/21/2016</td>\n",
       "      <td>04:00:00</td>\n",
       "      <td>REGULAR</td>\n",
       "      <td>5672183</td>\n",
       "      <td>1920719</td>\n",
       "    </tr>\n",
       "    <tr>\n",
       "      <th>2</th>\n",
       "      <td>A002</td>\n",
       "      <td>R051</td>\n",
       "      <td>02-00-00</td>\n",
       "      <td>59 ST</td>\n",
       "      <td>NQR456</td>\n",
       "      <td>BMT</td>\n",
       "      <td>05/21/2016</td>\n",
       "      <td>08:00:00</td>\n",
       "      <td>REGULAR</td>\n",
       "      <td>5672214</td>\n",
       "      <td>1920761</td>\n",
       "    </tr>\n",
       "    <tr>\n",
       "      <th>3</th>\n",
       "      <td>A002</td>\n",
       "      <td>R051</td>\n",
       "      <td>02-00-00</td>\n",
       "      <td>59 ST</td>\n",
       "      <td>NQR456</td>\n",
       "      <td>BMT</td>\n",
       "      <td>05/21/2016</td>\n",
       "      <td>12:00:00</td>\n",
       "      <td>REGULAR</td>\n",
       "      <td>5672330</td>\n",
       "      <td>1920867</td>\n",
       "    </tr>\n",
       "    <tr>\n",
       "      <th>4</th>\n",
       "      <td>A002</td>\n",
       "      <td>R051</td>\n",
       "      <td>02-00-00</td>\n",
       "      <td>59 ST</td>\n",
       "      <td>NQR456</td>\n",
       "      <td>BMT</td>\n",
       "      <td>05/21/2016</td>\n",
       "      <td>16:00:00</td>\n",
       "      <td>REGULAR</td>\n",
       "      <td>5672640</td>\n",
       "      <td>1920936</td>\n",
       "    </tr>\n",
       "  </tbody>\n",
       "</table>\n",
       "</div>"
      ],
      "text/plain": [
       "    C/A  UNIT       SCP STATION LINENAME DIVISION        DATE      TIME  \\\n",
       "0  A002  R051  02-00-00   59 ST   NQR456      BMT  05/21/2016  00:00:00   \n",
       "1  A002  R051  02-00-00   59 ST   NQR456      BMT  05/21/2016  04:00:00   \n",
       "2  A002  R051  02-00-00   59 ST   NQR456      BMT  05/21/2016  08:00:00   \n",
       "3  A002  R051  02-00-00   59 ST   NQR456      BMT  05/21/2016  12:00:00   \n",
       "4  A002  R051  02-00-00   59 ST   NQR456      BMT  05/21/2016  16:00:00   \n",
       "\n",
       "      DESC  ENTRIES    EXITS  \n",
       "0  REGULAR  5672118  1920707  \n",
       "1  REGULAR  5672183  1920719  \n",
       "2  REGULAR  5672214  1920761  \n",
       "3  REGULAR  5672330  1920867  \n",
       "4  REGULAR  5672640  1920936  "
      ]
     },
     "execution_count": 25,
     "metadata": {},
     "output_type": "execute_result"
    }
   ],
   "source": [
    "df.head()"
   ]
  },
  {
   "cell_type": "code",
   "execution_count": 26,
   "metadata": {
    "collapsed": false
   },
   "outputs": [
    {
     "data": {
      "text/html": [
       "<div>\n",
       "<table border=\"1\" class=\"dataframe\">\n",
       "  <thead>\n",
       "    <tr style=\"text-align: right;\">\n",
       "      <th></th>\n",
       "      <th>ENTRIES</th>\n",
       "      <th>EXITS</th>\n",
       "    </tr>\n",
       "  </thead>\n",
       "  <tbody>\n",
       "    <tr>\n",
       "      <th>count</th>\n",
       "      <td>7.772530e+05</td>\n",
       "      <td>7.772530e+05</td>\n",
       "    </tr>\n",
       "    <tr>\n",
       "      <th>mean</th>\n",
       "      <td>3.619627e+07</td>\n",
       "      <td>2.946001e+07</td>\n",
       "    </tr>\n",
       "    <tr>\n",
       "      <th>std</th>\n",
       "      <td>1.975870e+08</td>\n",
       "      <td>1.791294e+08</td>\n",
       "    </tr>\n",
       "    <tr>\n",
       "      <th>min</th>\n",
       "      <td>0.000000e+00</td>\n",
       "      <td>0.000000e+00</td>\n",
       "    </tr>\n",
       "    <tr>\n",
       "      <th>25%</th>\n",
       "      <td>5.873780e+05</td>\n",
       "      <td>2.979540e+05</td>\n",
       "    </tr>\n",
       "    <tr>\n",
       "      <th>50%</th>\n",
       "      <td>2.575607e+06</td>\n",
       "      <td>1.501834e+06</td>\n",
       "    </tr>\n",
       "    <tr>\n",
       "      <th>75%</th>\n",
       "      <td>6.546763e+06</td>\n",
       "      <td>4.657076e+06</td>\n",
       "    </tr>\n",
       "    <tr>\n",
       "      <th>max</th>\n",
       "      <td>2.147483e+09</td>\n",
       "      <td>2.087387e+09</td>\n",
       "    </tr>\n",
       "  </tbody>\n",
       "</table>\n",
       "</div>"
      ],
      "text/plain": [
       "            ENTRIES         EXITS\n",
       "count  7.772530e+05  7.772530e+05\n",
       "mean   3.619627e+07  2.946001e+07\n",
       "std    1.975870e+08  1.791294e+08\n",
       "min    0.000000e+00  0.000000e+00\n",
       "25%    5.873780e+05  2.979540e+05\n",
       "50%    2.575607e+06  1.501834e+06\n",
       "75%    6.546763e+06  4.657076e+06\n",
       "max    2.147483e+09  2.087387e+09"
      ]
     },
     "execution_count": 26,
     "metadata": {},
     "output_type": "execute_result"
    }
   ],
   "source": [
    "df.describe()"
   ]
  },
  {
   "cell_type": "markdown",
   "metadata": {},
   "source": [
    "## Cleaning"
   ]
  },
  {
   "cell_type": "code",
   "execution_count": 27,
   "metadata": {
    "collapsed": false
   },
   "outputs": [],
   "source": [
    "df['TIMESTAMP'] = pd.to_datetime((df.DATE + ' ' + df.TIME), format='%m/%d/%Y %H:%M:%S')"
   ]
  },
  {
   "cell_type": "code",
   "execution_count": 28,
   "metadata": {
    "collapsed": true
   },
   "outputs": [],
   "source": [
    "df['STATID'] = df.STATION + df.LINENAME"
   ]
  },
  {
   "cell_type": "code",
   "execution_count": 29,
   "metadata": {
    "collapsed": true
   },
   "outputs": [],
   "source": [
    "df = df.sort_values(['STATID', 'UNIT','SCP', 'TIMESTAMP'])"
   ]
  },
  {
   "cell_type": "code",
   "execution_count": 30,
   "metadata": {
    "collapsed": true
   },
   "outputs": [],
   "source": [
    "df['DIFFERENCE']=df.groupby(['STATID','UNIT','SCP'],as_index=False)['ENTRIES'].transform(pd.Series.diff)['ENTRIES']"
   ]
  },
  {
   "cell_type": "code",
   "execution_count": 36,
   "metadata": {
    "collapsed": true
   },
   "outputs": [],
   "source": [
    "df['1D']=1"
   ]
  },
  {
   "cell_type": "code",
   "execution_count": 43,
   "metadata": {
    "collapsed": false
   },
   "outputs": [
    {
     "data": {
      "text/html": [
       "<div>\n",
       "<table border=\"1\" class=\"dataframe\">\n",
       "  <thead>\n",
       "    <tr style=\"text-align: right;\">\n",
       "      <th></th>\n",
       "      <th>ENTRIES</th>\n",
       "      <th>EXITS</th>\n",
       "      <th>DIFFERENCE</th>\n",
       "      <th>1D</th>\n",
       "    </tr>\n",
       "  </thead>\n",
       "  <tbody>\n",
       "    <tr>\n",
       "      <th>count</th>\n",
       "      <td>7.772530e+05</td>\n",
       "      <td>7.772530e+05</td>\n",
       "      <td>7.726500e+05</td>\n",
       "      <td>777253.0</td>\n",
       "    </tr>\n",
       "    <tr>\n",
       "      <th>mean</th>\n",
       "      <td>3.619627e+07</td>\n",
       "      <td>2.946001e+07</td>\n",
       "      <td>3.335720e+03</td>\n",
       "      <td>1.0</td>\n",
       "    </tr>\n",
       "    <tr>\n",
       "      <th>std</th>\n",
       "      <td>1.975870e+08</td>\n",
       "      <td>1.791294e+08</td>\n",
       "      <td>4.437191e+06</td>\n",
       "      <td>0.0</td>\n",
       "    </tr>\n",
       "    <tr>\n",
       "      <th>min</th>\n",
       "      <td>0.000000e+00</td>\n",
       "      <td>0.000000e+00</td>\n",
       "      <td>-1.609770e+09</td>\n",
       "      <td>1.0</td>\n",
       "    </tr>\n",
       "    <tr>\n",
       "      <th>25%</th>\n",
       "      <td>5.873780e+05</td>\n",
       "      <td>2.979540e+05</td>\n",
       "      <td>1.100000e+01</td>\n",
       "      <td>1.0</td>\n",
       "    </tr>\n",
       "    <tr>\n",
       "      <th>50%</th>\n",
       "      <td>2.575607e+06</td>\n",
       "      <td>1.501834e+06</td>\n",
       "      <td>7.900000e+01</td>\n",
       "      <td>1.0</td>\n",
       "    </tr>\n",
       "    <tr>\n",
       "      <th>75%</th>\n",
       "      <td>6.546763e+06</td>\n",
       "      <td>4.657076e+06</td>\n",
       "      <td>2.520000e+02</td>\n",
       "      <td>1.0</td>\n",
       "    </tr>\n",
       "    <tr>\n",
       "      <th>max</th>\n",
       "      <td>2.147483e+09</td>\n",
       "      <td>2.087387e+09</td>\n",
       "      <td>2.076115e+09</td>\n",
       "      <td>1.0</td>\n",
       "    </tr>\n",
       "  </tbody>\n",
       "</table>\n",
       "</div>"
      ],
      "text/plain": [
       "            ENTRIES         EXITS    DIFFERENCE        1D\n",
       "count  7.772530e+05  7.772530e+05  7.726500e+05  777253.0\n",
       "mean   3.619627e+07  2.946001e+07  3.335720e+03       1.0\n",
       "std    1.975870e+08  1.791294e+08  4.437191e+06       0.0\n",
       "min    0.000000e+00  0.000000e+00 -1.609770e+09       1.0\n",
       "25%    5.873780e+05  2.979540e+05  1.100000e+01       1.0\n",
       "50%    2.575607e+06  1.501834e+06  7.900000e+01       1.0\n",
       "75%    6.546763e+06  4.657076e+06  2.520000e+02       1.0\n",
       "max    2.147483e+09  2.087387e+09  2.076115e+09       1.0"
      ]
     },
     "execution_count": 43,
     "metadata": {},
     "output_type": "execute_result"
    }
   ],
   "source": [
    "df.describe() #difference shows the row-wise difference for entries only"
   ]
  },
  {
   "cell_type": "code",
   "execution_count": 41,
   "metadata": {
    "collapsed": false
   },
   "outputs": [
    {
     "data": {
      "image/png": "[encoded data removed]",
      "text/plain": [
       "<matplotlib.figure.Figure at 0x120794910>"
      ]
     },
     "metadata": {},
     "output_type": "display_data"
    }
   ],
   "source": [
    "plt.scatter(df['DIFFERENCE'],df['1D']); #show outliers"
   ]
  },
  {
   "cell_type": "code",
   "execution_count": null,
   "metadata": {
    "collapsed": false
   },
   "outputs": [],
   "source": [
    "df['hod'] = [r.hour for r in df.TIMESTAMP]\n",
    "\n",
    "# now you can calculate stats for each bin\n",
    "ave = df[ (df.hod>=0) & (df.hod<6) ].mean()"
   ]
  },
  {
   "cell_type": "code",
   "execution_count": null,
   "metadata": {
    "collapsed": true
   },
   "outputs": [],
   "source": [
    "# g = pd.date_range()"
   ]
  },
  {
   "cell_type": "markdown",
   "metadata": {
    "collapsed": true
   },
   "source": [
    "# Playground"
   ]
  },
  {
   "cell_type": "code",
   "execution_count": 21,
   "metadata": {
    "collapsed": false
   },
   "outputs": [],
   "source": [
    "# plt.hist(df['TIMESTAMP']) #this doesn't work"
   ]
  },
  {
   "cell_type": "code",
   "execution_count": 10,
   "metadata": {
    "collapsed": false
   },
   "outputs": [],
   "source": [
    "# joel_ser = pd.Series(np.random.randn(100))"
   ]
  },
  {
   "cell_type": "code",
   "execution_count": 11,
   "metadata": {
    "collapsed": false
   },
   "outputs": [],
   "source": [
    "# joel_df = pd.DataFrame(joel_ser, columns=['my_bullshit'])"
   ]
  },
  {
   "cell_type": "code",
   "execution_count": 14,
   "metadata": {
    "collapsed": false,
    "scrolled": true
   },
   "outputs": [],
   "source": [
    "# joel_df.head()"
   ]
  },
  {
   "cell_type": "code",
   "execution_count": 15,
   "metadata": {
    "collapsed": false
   },
   "outputs": [],
   "source": [
    "# plt.hist(joel_df.my_bullshit)"
   ]
  },
  {
   "cell_type": "code",
   "execution_count": 39,
   "metadata": {
    "collapsed": true
   },
   "outputs": [],
   "source": [
    "from collections import Counter"
   ]
  },
  {
   "cell_type": "code",
   "execution_count": 40,
   "metadata": {
    "collapsed": false
   },
   "outputs": [
    {
     "data": {
      "text/plain": [
       "Counter({'L': 1, 'a': 1, 'e': 1, 'n': 1, 'r': 1, 'u': 1})"
      ]
     },
     "execution_count": 40,
     "metadata": {},
     "output_type": "execute_result"
    }
   ],
   "source": [
    "Counter('Lauren')"
   ]
  },
  {
   "cell_type": "code",
   "execution_count": 53,
   "metadata": {
    "collapsed": false
   },
   "outputs": [],
   "source": [
    "M_dic = Counter(\"Mississippiaaa\")"
   ]
  },
  {
   "cell_type": "code",
   "execution_count": 54,
   "metadata": {
    "collapsed": false
   },
   "outputs": [],
   "source": [
    "letters = [letter for letter in M_dic.keys()]"
   ]
  },
  {
   "cell_type": "code",
   "execution_count": 55,
   "metadata": {
    "collapsed": false
   },
   "outputs": [],
   "source": [
    "l_counts = [l_count for l_count in M_dic.values()]"
   ]
  },
  {
   "cell_type": "code",
   "execution_count": 57,
   "metadata": {
    "collapsed": false,
    "scrolled": true
   },
   "outputs": [
    {
     "data": {
      "text/plain": [
       "<Container object of 5 artists>"
      ]
     },
     "execution_count": 57,
     "metadata": {},
     "output_type": "execute_result"
    },
    {
     "data": {
      "image/png": "[encoded data removed]",
      "text/plain": [
       "<matplotlib.figure.Figure at 0x113f5ad10>"
      ]
     },
     "metadata": {},
     "output_type": "display_data"
    }
   ],
   "source": [
    "plt.bar(range(5), l_counts)"
   ]
  },
  {
   "cell_type": "code",
   "execution_count": 65,
   "metadata": {
    "collapsed": false
   },
   "outputs": [],
   "source": [
    "# station_dict = dict()\n",
    "# stations = df['STATION'].unique().tolist()\n",
    "\n",
    "# for station in stations:\n",
    "#         sdf = df[df['STATION'] == station]\n",
    "#         station_dict[station] = dict()\n",
    "#         units = sdf['UNIT'].unique().tolist()\n",
    "#         for unit in units:\n",
    "#                 udf = sdf[sdf['UNIT'] == unit]\n",
    "#                 station_dict[station][unit] = dict()\n",
    "#                 days = udf['DATE'].unique().tolist()\n",
    "#                 for day in days:\n",
    "#                     ddf = udf[udf['DATE'] == day]\n",
    "#                     station_dict[station][unit][day] = dict()\n",
    "#                     intervals = ddf['TIME'].unique().tolist()\n",
    "#                     for interval in intervals:\n",
    "#                         idf = ddf[ddf['TIME'] == interval]\n",
    "#                         station_dict[station][unit][day][interval] = idf[idf['TIME'] == interval]['ENTRIES'].iloc(0)"
   ]
  },
  {
   "cell_type": "code",
   "execution_count": 17,
   "metadata": {
    "collapsed": false
   },
   "outputs": [],
   "source": [
    "# type(df.DATE)\n",
    "# type(df.DATE.values)\n",
    "# df.DATE.head"
   ]
  }
 ],
 "metadata": {
  "kernelspec": {
   "display_name": "Python 2",
   "language": "python",
   "name": "python2"
  },
  "language_info": {
   "codemirror_mode": {
    "name": "ipython",
    "version": 2
   },
   "file_extension": ".py",
   "mimetype": "text/x-python",
   "name": "python",
   "nbconvert_exporter": "python",
   "pygments_lexer": "ipython2",
   "version": "2.7.12"
  }
 },
 "nbformat": 4,
 "nbformat_minor": 0
}
